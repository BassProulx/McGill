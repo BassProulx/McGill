{
 "cells": [
  {
   "cell_type": "markdown",
   "metadata": {},
   "source": [
    "# Going Open<br/><font size=\"4\">Practical notes on my process for adopting open science practices</font>"
   ]
  },
  {
   "cell_type": "markdown",
   "metadata": {},
   "source": [
    "## What to expect and some advices before your begin\n",
    "If you ever decide to go open, you should expect the following:\n",
    "* There is a lot out there in terms of resources, tools and communities\n",
    "* There is so much that you will likely feel at a loss\n",
    "* There is no single solution the solves it all, rather an ecosystem of solutions that don't necesserily integrate together in a single efficient workflow\n",
    "\n",
    "To avoid distress and discouragement, I recommend to:\n",
    "* Don't try anything if you are tight on deadlines\n",
    "* Be patient, you will unlikely quickly find what you are looking for\n",
    "* Be willing to experiment\n",
    "* Get a good password manager (I simply use the one of Firefox), it makes much easier to try stuff out\n",
    "* Take the time to connect with the community, the best way to get direction\n"
   ]
  },
  {
   "cell_type": "markdown",
   "metadata": {},
   "source": [
    "#### Installing a bash kernel <font size=\"2\">(the kernel used in this notebook)</font>\n",
    "see https://pypi.org/project/bash_kernel/"
   ]
  },
  {
   "cell_type": "code",
   "execution_count": null,
   "metadata": {},
   "outputs": [],
   "source": [
    "pip install bash_kernel\n",
    "python -m bash_kernel.install"
   ]
  }
 ],
 "metadata": {
  "kernelspec": {
   "display_name": "Bash",
   "language": "bash",
   "name": "bash"
  },
  "language_info": {
   "name": ""
  }
 },
 "nbformat": 4,
 "nbformat_minor": 4
}
