{
 "cells": [
  {
   "cell_type": "markdown",
   "metadata": {},
   "source": [
    "# Decoding Neuraly Relevant Information from the Shape of the Hemodynamic Response\n",
    "A walk-through the three neuromimaging data sets acquired during my PhD.\n",
    "\n",
    "This documentation is not prospective (constructed as the work unfolds) but retrospective (at a stage close to classic publication). Yes, shame on me.\n",
    "\n",
    "I am therefore constructing this documentation backward, from the highly processed data of final figures back toward the raw data. Note that I may never get to the raw data due to time constrains, so many projects, this imperfect current system of scholarly publishing and you know, life."
   ]
  },
  {
   "cell_type": "markdown",
   "metadata": {},
   "source": [
    "## Brain Decoding of Visual Stimulus Orientation With Cyclical Stimulus Paradigm"
   ]
  },
  {
   "cell_type": "markdown",
   "metadata": {},
   "source": [
    "Stimuli were presented at one of two orthogonal orientations (+/- 45 degrees) in alternating 6-sec ON and 6-sec OFF blocs. This produced sinusoidal BOLD signal variations in V1 cortex."
   ]
  },
  {
   "cell_type": "code",
   "execution_count": 49,
   "metadata": {},
   "outputs": [
    {
     "name": "stdout",
     "output_type": "stream",
     "text": [
      "\n",
      "fileList =\n",
      "\n",
      "  6x2 cell array\n",
      "\n",
      "    {'02jp_sess1'}    {'02jp_sess2'}\n",
      "    {'03sk_sess1'}    {'03sk_sess2'}\n",
      "    {'04sp_sess1'}    {'04sp_sess2'}\n",
      "    {'05bm_sess1'}    {'05bm_sess2'}\n",
      "    {'06sb_sess1'}    {'06sb_sess2'}\n",
      "    {'07bj_sess1'}    {'07bj_sess2'}\n",
      "\n",
      "\n"
     ]
    }
   ],
   "source": [
    "clear all\n",
    "dataDir = 'C:\\Users\\sebas\\OneDrive - McGill University\\McGill\\work\\projects\\170210_HRdecoding\\C_processing';\n",
    "fileList = {'02jp_sess1' '03sk_sess1' '04sp_sess1' '05bm_sess1' '06sb_sess1' '07bj_sess1';...\n",
    "            '02jp_sess2' '03sk_sess2' '04sp_sess2' '05bm_sess2' '06sb_sess2' '07bj_sess2'}';\n",
    "fileList"
   ]
  },
  {
   "cell_type": "code",
   "execution_count": 50,
   "metadata": {},
   "outputs": [
    {
     "name": "stdout",
     "output_type": "stream",
     "text": [
      "\n",
      "ans =\n",
      "\n",
      "     6     2\n",
      "\n",
      "\n",
      "ans =\n",
      "\n",
      "           6        2939\n",
      "\n",
      "\n"
     ]
    }
   ],
   "source": [
    "% Load complex numbers representing the sinusoidal response\n",
    "for sessInd = 1:size(fileList,2);\n",
    "    for subjInd = 1:size(fileList,1);\n",
    "        load(fullfile(dataDir,[fileList{subjInd,sessInd} '.mat']),'d')\n",
    "        ori1{subjInd,sessInd} = d.xData(d.label==1,:);\n",
    "        ori2{subjInd,sessInd} = d.xData(d.label==2,:);\n",
    "        plaid{subjInd,sessInd} = d.normData;\n",
    "    end\n",
    "end\n",
    "size(ori1)\n",
    "size(ori1{subjInd,sessInd})"
   ]
  },
  {
   "cell_type": "code",
   "execution_count": 51,
   "metadata": {},
   "outputs": [
    {
     "name": "stdout",
     "output_type": "stream",
     "text": [
      "\n",
      "ans =\n",
      "\n",
      "     6     2\n",
      "\n",
      "\n",
      "ans =\n",
      "\n",
      "     6     1\n",
      "\n",
      "\n"
     ]
    }
   ],
   "source": [
    "% Average voxels\n",
    "for sessInd = 1:size(fileList,2);\n",
    "    for subjInd = 1:size(fileList,1);\n",
    "        ori1{subjInd,sessInd} = mean(ori1{subjInd,sessInd},2);\n",
    "        ori2{subjInd,sessInd} = mean(ori2{subjInd,sessInd},2);\n",
    "        plaid{subjInd,sessInd} = mean(plaid{subjInd,sessInd},2);\n",
    "    end\n",
    "end\n",
    "size(ori1)\n",
    "size(ori1{subjInd,sessInd})"
   ]
  },
  {
   "cell_type": "code",
   "execution_count": 52,
   "metadata": {},
   "outputs": [
    {
     "name": "stdout",
     "output_type": "stream",
     "text": [
      "\n",
      "ans =\n",
      "\n",
      "     6     2\n",
      "\n",
      "\n"
     ]
    }
   ],
   "source": [
    "for sessInd = 1:size(fileList,2);\n",
    "    for subjInd = 1:size(fileList,1);\n",
    "        %average runs\n",
    "        ori1_m(subjInd,sessInd) = mean(ori1{subjInd,sessInd},1);\n",
    "        ori2_m(subjInd,sessInd) = mean(ori2{subjInd,sessInd},1);\n",
    "        plaid_m(subjInd,sessInd) = mean(plaid{subjInd,sessInd},1);\n",
    "    end\n",
    "end\n",
    "size(ori1_m)"
   ]
  },
  {
   "cell_type": "code",
   "execution_count": 53,
   "metadata": {},
   "outputs": [
    {
     "name": "stdout",
     "output_type": "stream",
     "text": [
      "\n",
      "ans =\n",
      "\n",
      "     6     2\n",
      "\n",
      "\n"
     ]
    }
   ],
   "source": [
    "% Average ori\n",
    "ori_m = mean(cat(3,ori1_m,ori2_m),3);\n",
    "size(ori_m)"
   ]
  },
  {
   "cell_type": "code",
   "execution_count": 54,
   "metadata": {},
   "outputs": [
    {
     "name": "stdout",
     "output_type": "stream",
     "text": [
      "\n",
      "ans =\n",
      "\n",
      "     6     1\n",
      "\n",
      "\n"
     ]
    }
   ],
   "source": [
    "% Average sessions\n",
    "ori1_m = mean(ori1_m,2);\n",
    "ori2_m = mean(ori2_m,2);\n",
    "ori_m = mean(ori_m,2);\n",
    "plaid_m = mean(plaid_m,2);\n",
    "size(ori_m)"
   ]
  },
  {
   "cell_type": "code",
   "execution_count": 55,
   "metadata": {},
   "outputs": [
    {
     "name": "stdout",
     "output_type": "stream",
     "text": [
      "amplitude\n",
      "\n",
      "H =\n",
      "\n",
      "     0\n",
      "\n",
      "\n",
      "P =\n",
      "\n",
      "    0.3742\n",
      "\n",
      "\n",
      "CI =\n",
      "\n",
      "   -0.0721\n",
      "    0.1603\n",
      "\n",
      "\n",
      "STATS = \n",
      "\n",
      "  struct with fields:\n",
      "\n",
      "    tstat: 0.9752\n",
      "       df: 5\n",
      "       sd: 0.1107\n",
      "\n",
      "delay\n",
      "\n",
      "H =\n",
      "\n",
      "     1\n",
      "\n",
      "\n",
      "P =\n",
      "\n",
      "    0.0310\n",
      "\n",
      "\n",
      "CI =\n",
      "\n",
      "    0.0076\n",
      "    0.1044\n",
      "\n",
      "\n",
      "STATS = \n",
      "\n",
      "  struct with fields:\n",
      "\n",
      "    tstat: 2.9738\n",
      "       df: 5\n",
      "       sd: 0.0461\n",
      "\n",
      "\n",
      "P =\n",
      "\n",
      "    0.0625\n",
      "\n",
      "\n",
      "H =\n",
      "\n",
      "  logical\n",
      "\n",
      "   0\n",
      "\n",
      "\n",
      "STATS = \n",
      "\n",
      "  struct with fields:\n",
      "\n",
      "    signedrank: 20\n",
      "\n",
      "\n",
      "P =\n",
      "\n",
      "    0.1046\n",
      "\n",
      "\n",
      "F =\n",
      "\n",
      "    4.1832\n",
      "\n",
      "\n"
     ]
    }
   ],
   "source": [
    "% Stats\n",
    "% amplitude\n",
    "disp('amplitude')\n",
    "[H,P,CI,STATS] = ttest(abs(ori_m),abs(plaid_m))\n",
    "%% delay\n",
    "disp('delay')\n",
    "[H,P,CI,STATS] = ttest(angle(ori_m),angle(plaid_m))\n",
    "[P,H,STATS] = signrank(angle(ori_m),angle(plaid_m))\n",
    "[P,F] = circ_htest(angle(ori_m),angle(plaid_m))"
   ]
  }
 ],
 "metadata": {
  "kernelspec": {
   "display_name": "Matlab",
   "language": "matlab",
   "name": "matlab"
  },
  "language_info": {
   "codemirror_mode": "octave",
   "file_extension": ".m",
   "help_links": [
    {
     "text": "MetaKernel Magics",
     "url": "https://metakernel.readthedocs.io/en/latest/source/README.html"
    }
   ],
   "mimetype": "text/x-octave",
   "name": "matlab",
   "version": "0.16.10"
  }
 },
 "nbformat": 4,
 "nbformat_minor": 4
}
